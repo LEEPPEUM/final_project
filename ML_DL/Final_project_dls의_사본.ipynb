{
  "nbformat": 4,
  "nbformat_minor": 0,
  "metadata": {
    "colab": {
      "name": "Final_project_dls의 사본",
      "provenance": [],
      "collapsed_sections": []
    },
    "kernelspec": {
      "name": "python3",
      "display_name": "Python 3"
    }
  },
  "cells": [
    {
      "cell_type": "code",
      "metadata": {
        "id": "uoFWnAN2jlIm",
        "colab_type": "code",
        "colab": {
          "base_uri": "https://localhost:8080/",
          "height": 52
        },
        "outputId": "cd359cf0-8a2e-4e6c-a629-742f0a73d870"
      },
      "source": [
        "print(tf.keras.__version__)\n",
        "print(tf.__version__)"
      ],
      "execution_count": null,
      "outputs": [
        {
          "output_type": "stream",
          "text": [
            "2.4.0\n",
            "2.3.0\n"
          ],
          "name": "stdout"
        }
      ]
    },
    {
      "cell_type": "code",
      "metadata": {
        "id": "zqI3uaGgjDgO",
        "colab_type": "code",
        "colab": {}
      },
      "source": [
        "from tensorflow.keras.callbacks import EarlyStopping\n",
        "import tensorflow as tf\n",
        "from tensorflow.keras import layers\n",
        "import numpy as np\n",
        "import pandas as pd\n",
        "from tensorflow.keras import optimizers\n",
        "import matplotlib.pyplot as plt\n",
        "from tensorflow.keras.layers.experimental.preprocessing import Normalization\n",
        "from sklearn.model_selection import train_test_split  "
      ],
      "execution_count": null,
      "outputs": []
    },
    {
      "cell_type": "code",
      "metadata": {
        "id": "rE2W8fZBlVqR",
        "colab_type": "code",
        "colab": {}
      },
      "source": [
        "DFver1=pd.read_excel(\"pp_df_y.xlsx\")"
      ],
      "execution_count": null,
      "outputs": []
    },
    {
      "cell_type": "code",
      "metadata": {
        "id": "1M0mtiwLlvL5",
        "colab_type": "code",
        "colab": {}
      },
      "source": [
        "DFver1=DFver1.drop(['Unnamed: 0'],1)"
      ],
      "execution_count": null,
      "outputs": []
    },
    {
      "cell_type": "code",
      "metadata": {
        "id": "rXMV_EkrmJTh",
        "colab_type": "code",
        "colab": {}
      },
      "source": [
        "y_set=DFver1['y']"
      ],
      "execution_count": null,
      "outputs": []
    },
    {
      "cell_type": "code",
      "metadata": {
        "id": "vn8MkphFmQSo",
        "colab_type": "code",
        "colab": {}
      },
      "source": [
        "DFver1=DFver1.drop(['y'],1)"
      ],
      "execution_count": null,
      "outputs": []
    },
    {
      "cell_type": "code",
      "metadata": {
        "id": "UyohnmlNqVKI",
        "colab_type": "code",
        "colab": {}
      },
      "source": [
        "y_set = tf.keras.utils.to_categorical(y_set)"
      ],
      "execution_count": null,
      "outputs": []
    },
    {
      "cell_type": "code",
      "metadata": {
        "id": "DpeguTHIoirb",
        "colab_type": "code",
        "colab": {}
      },
      "source": [
        "x_train, x_test, y_train, y_test=train_test_split(DFver1, y_set)"
      ],
      "execution_count": null,
      "outputs": []
    },
    {
      "cell_type": "code",
      "metadata": {
        "id": "LLVlSk41rk5J",
        "colab_type": "code",
        "colab": {}
      },
      "source": [
        "model=tf.keras.models.Sequential()\n",
        "model = tf.keras.models.Sequential([layers.Input(shape=x_train.shape[1]), layers.Dense(16, activation='relu', kernel_regularizer=tf.keras.regularizers.l2(0.001),activity_regularizer=tf.keras.regularizers.l2(0.001)\n",
        "                                    ), layers.Dense(32, kernel_regularizer=tf.keras.regularizers.l2(0.001),activity_regularizer=tf.keras.regularizers.l2(0.001), activation='relu'\n",
        "                                    ),  layers.Dense(16, kernel_regularizer=tf.keras.regularizers.l2(0.001),activity_regularizer=tf.keras.regularizers.l2(0.001), activation='relu'\n",
        "                                    ),\n",
        "                                    layers.Dense(4, activation='softmax') ])\n",
        "model.compile(tf.keras.optimizers.Adam(learning_rate=0.001), loss='categorical_crossentropy',  metrics=['categorical_accuracy'])\n",
        "early_stopping=tf.keras.callbacks.EarlyStopping(monitor='loss', patience=10, restore_best_weights=True)\n"
      ],
      "execution_count": null,
      "outputs": []
    },
    {
      "cell_type": "code",
      "metadata": {
        "id": "nXgDTMWODqGV",
        "colab_type": "code",
        "colab": {
          "base_uri": "https://localhost:8080/",
          "height": 1000
        },
        "outputId": "a0d06785-3d44-4c57-dcfa-d171387f689b"
      },
      "source": [
        "hists=model.fit(x_train, y_train, epochs=200, batch_size=10, validation_split=0.2, verbose=1,callbacks=[early_stopping])\n",
        "plt.plot(hists.history['val_categorical_accuracy'], label='val_categorical_accuracy')\n",
        "plt.plot(hists.history['categorical_accuracy'], label='categorical_accuracy')\n",
        "plt.plot(hists.history['loss'], label='loss')\n",
        "plt.plot(hists.history['val_loss'], label='val_loss')\n",
        "plt.legend()"
      ],
      "execution_count": null,
      "outputs": [
        {
          "output_type": "stream",
          "text": [
            "Epoch 1/200\n",
            "346/346 [==============================] - 1s 2ms/step - loss: 1.1562 - categorical_accuracy: 0.5143 - val_loss: 0.8705 - val_categorical_accuracy: 0.6860\n",
            "Epoch 2/200\n",
            "346/346 [==============================] - 1s 1ms/step - loss: 0.7322 - categorical_accuracy: 0.7305 - val_loss: 0.7465 - val_categorical_accuracy: 0.7103\n",
            "Epoch 3/200\n",
            "346/346 [==============================] - 1s 1ms/step - loss: 0.6358 - categorical_accuracy: 0.7740 - val_loss: 0.6986 - val_categorical_accuracy: 0.7196\n",
            "Epoch 4/200\n",
            "346/346 [==============================] - 0s 1ms/step - loss: 0.5978 - categorical_accuracy: 0.7844 - val_loss: 0.6692 - val_categorical_accuracy: 0.7428\n",
            "Epoch 5/200\n",
            "346/346 [==============================] - 1s 2ms/step - loss: 0.5706 - categorical_accuracy: 0.7948 - val_loss: 0.6455 - val_categorical_accuracy: 0.7497\n",
            "Epoch 6/200\n",
            "346/346 [==============================] - 1s 1ms/step - loss: 0.5489 - categorical_accuracy: 0.8073 - val_loss: 0.6350 - val_categorical_accuracy: 0.7648\n",
            "Epoch 7/200\n",
            "346/346 [==============================] - 1s 1ms/step - loss: 0.5223 - categorical_accuracy: 0.8180 - val_loss: 0.6115 - val_categorical_accuracy: 0.7694\n",
            "Epoch 8/200\n",
            "346/346 [==============================] - 1s 1ms/step - loss: 0.5075 - categorical_accuracy: 0.8253 - val_loss: 0.6083 - val_categorical_accuracy: 0.7659\n",
            "Epoch 9/200\n",
            "346/346 [==============================] - 1s 1ms/step - loss: 0.4912 - categorical_accuracy: 0.8299 - val_loss: 0.5807 - val_categorical_accuracy: 0.7833\n",
            "Epoch 10/200\n",
            "346/346 [==============================] - 1s 2ms/step - loss: 0.4723 - categorical_accuracy: 0.8432 - val_loss: 0.5717 - val_categorical_accuracy: 0.7937\n",
            "Epoch 11/200\n",
            "346/346 [==============================] - 1s 1ms/step - loss: 0.4600 - categorical_accuracy: 0.8467 - val_loss: 0.5755 - val_categorical_accuracy: 0.7879\n",
            "Epoch 12/200\n",
            "346/346 [==============================] - 1s 2ms/step - loss: 0.4469 - categorical_accuracy: 0.8537 - val_loss: 0.5441 - val_categorical_accuracy: 0.8042\n",
            "Epoch 13/200\n",
            "346/346 [==============================] - 1s 2ms/step - loss: 0.4305 - categorical_accuracy: 0.8606 - val_loss: 0.5525 - val_categorical_accuracy: 0.7949\n",
            "Epoch 14/200\n",
            "346/346 [==============================] - 1s 1ms/step - loss: 0.4192 - categorical_accuracy: 0.8644 - val_loss: 0.5331 - val_categorical_accuracy: 0.8053\n",
            "Epoch 15/200\n",
            "346/346 [==============================] - 1s 2ms/step - loss: 0.4072 - categorical_accuracy: 0.8725 - val_loss: 0.5242 - val_categorical_accuracy: 0.8123\n",
            "Epoch 16/200\n",
            "346/346 [==============================] - 1s 1ms/step - loss: 0.4032 - categorical_accuracy: 0.8751 - val_loss: 0.5022 - val_categorical_accuracy: 0.8320\n",
            "Epoch 17/200\n",
            "346/346 [==============================] - 1s 2ms/step - loss: 0.3898 - categorical_accuracy: 0.8800 - val_loss: 0.4939 - val_categorical_accuracy: 0.8320\n",
            "Epoch 18/200\n",
            "346/346 [==============================] - 1s 2ms/step - loss: 0.3783 - categorical_accuracy: 0.8844 - val_loss: 0.4978 - val_categorical_accuracy: 0.8308\n",
            "Epoch 19/200\n",
            "346/346 [==============================] - 1s 2ms/step - loss: 0.3726 - categorical_accuracy: 0.8864 - val_loss: 0.4861 - val_categorical_accuracy: 0.8366\n",
            "Epoch 20/200\n",
            "346/346 [==============================] - 1s 1ms/step - loss: 0.3585 - categorical_accuracy: 0.8954 - val_loss: 0.4823 - val_categorical_accuracy: 0.8378\n",
            "Epoch 21/200\n",
            "346/346 [==============================] - 1s 1ms/step - loss: 0.3555 - categorical_accuracy: 0.8942 - val_loss: 0.4809 - val_categorical_accuracy: 0.8436\n",
            "Epoch 22/200\n",
            "346/346 [==============================] - 1s 1ms/step - loss: 0.3457 - categorical_accuracy: 0.9000 - val_loss: 0.4741 - val_categorical_accuracy: 0.8413\n",
            "Epoch 23/200\n",
            "346/346 [==============================] - 1s 2ms/step - loss: 0.3427 - categorical_accuracy: 0.8994 - val_loss: 0.4545 - val_categorical_accuracy: 0.8633\n",
            "Epoch 24/200\n",
            "346/346 [==============================] - 1s 2ms/step - loss: 0.3314 - categorical_accuracy: 0.9087 - val_loss: 0.4615 - val_categorical_accuracy: 0.8528\n",
            "Epoch 25/200\n",
            "346/346 [==============================] - 1s 2ms/step - loss: 0.3261 - categorical_accuracy: 0.9073 - val_loss: 0.4711 - val_categorical_accuracy: 0.8494\n",
            "Epoch 26/200\n",
            "346/346 [==============================] - 1s 1ms/step - loss: 0.3202 - categorical_accuracy: 0.9090 - val_loss: 0.4636 - val_categorical_accuracy: 0.8598\n",
            "Epoch 27/200\n",
            "346/346 [==============================] - 1s 1ms/step - loss: 0.3133 - categorical_accuracy: 0.9113 - val_loss: 0.4408 - val_categorical_accuracy: 0.8667\n",
            "Epoch 28/200\n",
            "346/346 [==============================] - 1s 1ms/step - loss: 0.3062 - categorical_accuracy: 0.9165 - val_loss: 0.4534 - val_categorical_accuracy: 0.8656\n",
            "Epoch 29/200\n",
            "346/346 [==============================] - 1s 2ms/step - loss: 0.3067 - categorical_accuracy: 0.9180 - val_loss: 0.4475 - val_categorical_accuracy: 0.8702\n",
            "Epoch 30/200\n",
            "346/346 [==============================] - 1s 2ms/step - loss: 0.2933 - categorical_accuracy: 0.9249 - val_loss: 0.4386 - val_categorical_accuracy: 0.8691\n",
            "Epoch 31/200\n",
            "346/346 [==============================] - 1s 1ms/step - loss: 0.2918 - categorical_accuracy: 0.9232 - val_loss: 0.4189 - val_categorical_accuracy: 0.8749\n",
            "Epoch 32/200\n",
            "346/346 [==============================] - 1s 2ms/step - loss: 0.2815 - categorical_accuracy: 0.9278 - val_loss: 0.4286 - val_categorical_accuracy: 0.8656\n",
            "Epoch 33/200\n",
            "346/346 [==============================] - 1s 2ms/step - loss: 0.2780 - categorical_accuracy: 0.9244 - val_loss: 0.4369 - val_categorical_accuracy: 0.8691\n",
            "Epoch 34/200\n",
            "346/346 [==============================] - 1s 1ms/step - loss: 0.2764 - categorical_accuracy: 0.9281 - val_loss: 0.4348 - val_categorical_accuracy: 0.8725\n",
            "Epoch 35/200\n",
            "346/346 [==============================] - 1s 1ms/step - loss: 0.2697 - categorical_accuracy: 0.9316 - val_loss: 0.4197 - val_categorical_accuracy: 0.8795\n",
            "Epoch 36/200\n",
            "346/346 [==============================] - 1s 1ms/step - loss: 0.2636 - categorical_accuracy: 0.9365 - val_loss: 0.4335 - val_categorical_accuracy: 0.8725\n",
            "Epoch 37/200\n",
            "346/346 [==============================] - 1s 2ms/step - loss: 0.2612 - categorical_accuracy: 0.9386 - val_loss: 0.4222 - val_categorical_accuracy: 0.8749\n",
            "Epoch 38/200\n",
            "346/346 [==============================] - 1s 2ms/step - loss: 0.2527 - categorical_accuracy: 0.9429 - val_loss: 0.4084 - val_categorical_accuracy: 0.8806\n",
            "Epoch 39/200\n",
            "346/346 [==============================] - 1s 2ms/step - loss: 0.2515 - categorical_accuracy: 0.9432 - val_loss: 0.4348 - val_categorical_accuracy: 0.8702\n",
            "Epoch 40/200\n",
            "346/346 [==============================] - 1s 1ms/step - loss: 0.2462 - categorical_accuracy: 0.9449 - val_loss: 0.4034 - val_categorical_accuracy: 0.8899\n",
            "Epoch 41/200\n",
            "346/346 [==============================] - 1s 2ms/step - loss: 0.2407 - categorical_accuracy: 0.9467 - val_loss: 0.4106 - val_categorical_accuracy: 0.8841\n",
            "Epoch 42/200\n",
            "346/346 [==============================] - 1s 2ms/step - loss: 0.2411 - categorical_accuracy: 0.9473 - val_loss: 0.4061 - val_categorical_accuracy: 0.8783\n",
            "Epoch 43/200\n",
            "346/346 [==============================] - 1s 2ms/step - loss: 0.2309 - categorical_accuracy: 0.9496 - val_loss: 0.3901 - val_categorical_accuracy: 0.8911\n",
            "Epoch 44/200\n",
            "346/346 [==============================] - 0s 1ms/step - loss: 0.2311 - categorical_accuracy: 0.9548 - val_loss: 0.4154 - val_categorical_accuracy: 0.8899\n",
            "Epoch 45/200\n",
            "346/346 [==============================] - 1s 2ms/step - loss: 0.2248 - categorical_accuracy: 0.9574 - val_loss: 0.3866 - val_categorical_accuracy: 0.9050\n",
            "Epoch 46/200\n",
            "346/346 [==============================] - 1s 2ms/step - loss: 0.2205 - categorical_accuracy: 0.9577 - val_loss: 0.4001 - val_categorical_accuracy: 0.8760\n",
            "Epoch 47/200\n",
            "346/346 [==============================] - 1s 2ms/step - loss: 0.2187 - categorical_accuracy: 0.9583 - val_loss: 0.3856 - val_categorical_accuracy: 0.8946\n",
            "Epoch 48/200\n",
            "346/346 [==============================] - 1s 2ms/step - loss: 0.2125 - categorical_accuracy: 0.9594 - val_loss: 0.3731 - val_categorical_accuracy: 0.9061\n",
            "Epoch 49/200\n",
            "346/346 [==============================] - 1s 2ms/step - loss: 0.2074 - categorical_accuracy: 0.9658 - val_loss: 0.3749 - val_categorical_accuracy: 0.8992\n",
            "Epoch 50/200\n",
            "346/346 [==============================] - 1s 2ms/step - loss: 0.2011 - categorical_accuracy: 0.9687 - val_loss: 0.3710 - val_categorical_accuracy: 0.9038\n",
            "Epoch 51/200\n",
            "346/346 [==============================] - 1s 2ms/step - loss: 0.2040 - categorical_accuracy: 0.9675 - val_loss: 0.4069 - val_categorical_accuracy: 0.8841\n",
            "Epoch 52/200\n",
            "346/346 [==============================] - 1s 1ms/step - loss: 0.1958 - categorical_accuracy: 0.9667 - val_loss: 0.4063 - val_categorical_accuracy: 0.8888\n",
            "Epoch 53/200\n",
            "346/346 [==============================] - 1s 1ms/step - loss: 0.1961 - categorical_accuracy: 0.9690 - val_loss: 0.3603 - val_categorical_accuracy: 0.9027\n",
            "Epoch 54/200\n",
            "346/346 [==============================] - 1s 1ms/step - loss: 0.1905 - categorical_accuracy: 0.9754 - val_loss: 0.3613 - val_categorical_accuracy: 0.9027\n",
            "Epoch 55/200\n",
            "346/346 [==============================] - 1s 2ms/step - loss: 0.1834 - categorical_accuracy: 0.9759 - val_loss: 0.3547 - val_categorical_accuracy: 0.9108\n",
            "Epoch 56/200\n",
            "346/346 [==============================] - 1s 2ms/step - loss: 0.1805 - categorical_accuracy: 0.9794 - val_loss: 0.3460 - val_categorical_accuracy: 0.9235\n",
            "Epoch 57/200\n",
            "346/346 [==============================] - 1s 1ms/step - loss: 0.1797 - categorical_accuracy: 0.9765 - val_loss: 0.3964 - val_categorical_accuracy: 0.9143\n",
            "Epoch 58/200\n",
            "346/346 [==============================] - 1s 2ms/step - loss: 0.1789 - categorical_accuracy: 0.9771 - val_loss: 0.3498 - val_categorical_accuracy: 0.9154\n",
            "Epoch 59/200\n",
            "346/346 [==============================] - 1s 1ms/step - loss: 0.1751 - categorical_accuracy: 0.9815 - val_loss: 0.3411 - val_categorical_accuracy: 0.9200\n",
            "Epoch 60/200\n",
            "346/346 [==============================] - 1s 2ms/step - loss: 0.1720 - categorical_accuracy: 0.9815 - val_loss: 0.3421 - val_categorical_accuracy: 0.9189\n",
            "Epoch 61/200\n",
            "346/346 [==============================] - 1s 2ms/step - loss: 0.1758 - categorical_accuracy: 0.9751 - val_loss: 0.3294 - val_categorical_accuracy: 0.9305\n",
            "Epoch 62/200\n",
            "346/346 [==============================] - 1s 2ms/step - loss: 0.1713 - categorical_accuracy: 0.9803 - val_loss: 0.3325 - val_categorical_accuracy: 0.9305\n",
            "Epoch 63/200\n",
            "346/346 [==============================] - 1s 1ms/step - loss: 0.1628 - categorical_accuracy: 0.9832 - val_loss: 0.3244 - val_categorical_accuracy: 0.9293\n",
            "Epoch 64/200\n",
            "346/346 [==============================] - 1s 2ms/step - loss: 0.1608 - categorical_accuracy: 0.9855 - val_loss: 0.3206 - val_categorical_accuracy: 0.9247\n",
            "Epoch 65/200\n",
            "346/346 [==============================] - 1s 2ms/step - loss: 0.1754 - categorical_accuracy: 0.9739 - val_loss: 0.3166 - val_categorical_accuracy: 0.9258\n",
            "Epoch 66/200\n",
            "346/346 [==============================] - 1s 2ms/step - loss: 0.1587 - categorical_accuracy: 0.9846 - val_loss: 0.3056 - val_categorical_accuracy: 0.9340\n",
            "Epoch 67/200\n",
            "346/346 [==============================] - 1s 2ms/step - loss: 0.1489 - categorical_accuracy: 0.9875 - val_loss: 0.3016 - val_categorical_accuracy: 0.9340\n",
            "Epoch 68/200\n",
            "346/346 [==============================] - 1s 2ms/step - loss: 0.1526 - categorical_accuracy: 0.9844 - val_loss: 0.3343 - val_categorical_accuracy: 0.9247\n",
            "Epoch 69/200\n",
            "346/346 [==============================] - 1s 2ms/step - loss: 0.1522 - categorical_accuracy: 0.9841 - val_loss: 0.3189 - val_categorical_accuracy: 0.9293\n",
            "Epoch 70/200\n",
            "346/346 [==============================] - 1s 2ms/step - loss: 0.1482 - categorical_accuracy: 0.9873 - val_loss: 0.2946 - val_categorical_accuracy: 0.9340\n",
            "Epoch 71/200\n",
            "346/346 [==============================] - 1s 2ms/step - loss: 0.1507 - categorical_accuracy: 0.9858 - val_loss: 0.3009 - val_categorical_accuracy: 0.9374\n",
            "Epoch 72/200\n",
            "346/346 [==============================] - 1s 2ms/step - loss: 0.1491 - categorical_accuracy: 0.9844 - val_loss: 0.2953 - val_categorical_accuracy: 0.9282\n",
            "Epoch 73/200\n",
            "346/346 [==============================] - 1s 2ms/step - loss: 0.1390 - categorical_accuracy: 0.9907 - val_loss: 0.2785 - val_categorical_accuracy: 0.9386\n",
            "Epoch 74/200\n",
            "346/346 [==============================] - 1s 1ms/step - loss: 0.1448 - categorical_accuracy: 0.9870 - val_loss: 0.2950 - val_categorical_accuracy: 0.9282\n",
            "Epoch 75/200\n",
            "346/346 [==============================] - 1s 2ms/step - loss: 0.1370 - categorical_accuracy: 0.9910 - val_loss: 0.2921 - val_categorical_accuracy: 0.9374\n",
            "Epoch 76/200\n",
            "346/346 [==============================] - 1s 2ms/step - loss: 0.1405 - categorical_accuracy: 0.9855 - val_loss: 0.3047 - val_categorical_accuracy: 0.9258\n",
            "Epoch 77/200\n",
            "346/346 [==============================] - 1s 2ms/step - loss: 0.1357 - categorical_accuracy: 0.9899 - val_loss: 0.2996 - val_categorical_accuracy: 0.9258\n",
            "Epoch 78/200\n",
            "346/346 [==============================] - 1s 2ms/step - loss: 0.1364 - categorical_accuracy: 0.9873 - val_loss: 0.3171 - val_categorical_accuracy: 0.9270\n",
            "Epoch 79/200\n",
            "346/346 [==============================] - 1s 1ms/step - loss: 0.1375 - categorical_accuracy: 0.9873 - val_loss: 0.2728 - val_categorical_accuracy: 0.9386\n",
            "Epoch 80/200\n",
            "346/346 [==============================] - 1s 2ms/step - loss: 0.1309 - categorical_accuracy: 0.9904 - val_loss: 0.2841 - val_categorical_accuracy: 0.9363\n",
            "Epoch 81/200\n",
            "346/346 [==============================] - 1s 2ms/step - loss: 0.1315 - categorical_accuracy: 0.9887 - val_loss: 0.2868 - val_categorical_accuracy: 0.9340\n",
            "Epoch 82/200\n",
            "346/346 [==============================] - 1s 2ms/step - loss: 0.1359 - categorical_accuracy: 0.9855 - val_loss: 0.3237 - val_categorical_accuracy: 0.9258\n",
            "Epoch 83/200\n",
            "346/346 [==============================] - 1s 2ms/step - loss: 0.1395 - categorical_accuracy: 0.9870 - val_loss: 0.2834 - val_categorical_accuracy: 0.9409\n",
            "Epoch 84/200\n",
            "346/346 [==============================] - 1s 2ms/step - loss: 0.1265 - categorical_accuracy: 0.9919 - val_loss: 0.3195 - val_categorical_accuracy: 0.9224\n",
            "Epoch 85/200\n",
            "346/346 [==============================] - 1s 1ms/step - loss: 0.1313 - categorical_accuracy: 0.9870 - val_loss: 0.3008 - val_categorical_accuracy: 0.9270\n",
            "Epoch 86/200\n",
            "346/346 [==============================] - 1s 2ms/step - loss: 0.1285 - categorical_accuracy: 0.9896 - val_loss: 0.2595 - val_categorical_accuracy: 0.9386\n",
            "Epoch 87/200\n",
            "346/346 [==============================] - 1s 2ms/step - loss: 0.1291 - categorical_accuracy: 0.9870 - val_loss: 0.2693 - val_categorical_accuracy: 0.9397\n",
            "Epoch 88/200\n",
            "346/346 [==============================] - 1s 2ms/step - loss: 0.1239 - categorical_accuracy: 0.9910 - val_loss: 0.2539 - val_categorical_accuracy: 0.9467\n",
            "Epoch 89/200\n",
            "346/346 [==============================] - 1s 2ms/step - loss: 0.1190 - categorical_accuracy: 0.9928 - val_loss: 0.2500 - val_categorical_accuracy: 0.9455\n",
            "Epoch 90/200\n",
            "346/346 [==============================] - 1s 2ms/step - loss: 0.1217 - categorical_accuracy: 0.9910 - val_loss: 0.2899 - val_categorical_accuracy: 0.9212\n",
            "Epoch 91/200\n",
            "346/346 [==============================] - 1s 2ms/step - loss: 0.1211 - categorical_accuracy: 0.9928 - val_loss: 0.2506 - val_categorical_accuracy: 0.9479\n",
            "Epoch 92/200\n",
            "346/346 [==============================] - 1s 1ms/step - loss: 0.1299 - categorical_accuracy: 0.9867 - val_loss: 0.2688 - val_categorical_accuracy: 0.9397\n",
            "Epoch 93/200\n",
            "346/346 [==============================] - 1s 2ms/step - loss: 0.1290 - categorical_accuracy: 0.9867 - val_loss: 0.2655 - val_categorical_accuracy: 0.9397\n",
            "Epoch 94/200\n",
            "346/346 [==============================] - 1s 1ms/step - loss: 0.1175 - categorical_accuracy: 0.9916 - val_loss: 0.2508 - val_categorical_accuracy: 0.9490\n",
            "Epoch 95/200\n",
            "346/346 [==============================] - 1s 2ms/step - loss: 0.1152 - categorical_accuracy: 0.9922 - val_loss: 0.2429 - val_categorical_accuracy: 0.9432\n",
            "Epoch 96/200\n",
            "346/346 [==============================] - 1s 1ms/step - loss: 0.1217 - categorical_accuracy: 0.9887 - val_loss: 0.2363 - val_categorical_accuracy: 0.9467\n",
            "Epoch 97/200\n",
            "346/346 [==============================] - 1s 1ms/step - loss: 0.1163 - categorical_accuracy: 0.9942 - val_loss: 0.2420 - val_categorical_accuracy: 0.9409\n",
            "Epoch 98/200\n",
            "346/346 [==============================] - 1s 2ms/step - loss: 0.1132 - categorical_accuracy: 0.9945 - val_loss: 0.2396 - val_categorical_accuracy: 0.9455\n",
            "Epoch 99/200\n",
            "346/346 [==============================] - 1s 1ms/step - loss: 0.1131 - categorical_accuracy: 0.9948 - val_loss: 0.2526 - val_categorical_accuracy: 0.9502\n",
            "Epoch 100/200\n",
            "346/346 [==============================] - 1s 1ms/step - loss: 0.1167 - categorical_accuracy: 0.9904 - val_loss: 0.2444 - val_categorical_accuracy: 0.9479\n",
            "Epoch 101/200\n",
            "346/346 [==============================] - 1s 2ms/step - loss: 0.1163 - categorical_accuracy: 0.9896 - val_loss: 0.2243 - val_categorical_accuracy: 0.9490\n",
            "Epoch 102/200\n",
            "346/346 [==============================] - 1s 2ms/step - loss: 0.1098 - categorical_accuracy: 0.9945 - val_loss: 0.2298 - val_categorical_accuracy: 0.9513\n",
            "Epoch 103/200\n",
            "346/346 [==============================] - 1s 2ms/step - loss: 0.1162 - categorical_accuracy: 0.9901 - val_loss: 0.2281 - val_categorical_accuracy: 0.9513\n",
            "Epoch 104/200\n",
            "346/346 [==============================] - 1s 1ms/step - loss: 0.1119 - categorical_accuracy: 0.9922 - val_loss: 0.2728 - val_categorical_accuracy: 0.9409\n",
            "Epoch 105/200\n",
            "346/346 [==============================] - 1s 2ms/step - loss: 0.1122 - categorical_accuracy: 0.9913 - val_loss: 0.2232 - val_categorical_accuracy: 0.9537\n",
            "Epoch 106/200\n",
            "346/346 [==============================] - 1s 2ms/step - loss: 0.1095 - categorical_accuracy: 0.9928 - val_loss: 0.2484 - val_categorical_accuracy: 0.9397\n",
            "Epoch 107/200\n",
            "346/346 [==============================] - 1s 2ms/step - loss: 0.1071 - categorical_accuracy: 0.9945 - val_loss: 0.2213 - val_categorical_accuracy: 0.9502\n",
            "Epoch 108/200\n",
            "346/346 [==============================] - 1s 1ms/step - loss: 0.1063 - categorical_accuracy: 0.9942 - val_loss: 0.2335 - val_categorical_accuracy: 0.9490\n",
            "Epoch 109/200\n",
            "346/346 [==============================] - 1s 1ms/step - loss: 0.1198 - categorical_accuracy: 0.9881 - val_loss: 0.2878 - val_categorical_accuracy: 0.9270\n",
            "Epoch 110/200\n",
            "346/346 [==============================] - 1s 2ms/step - loss: 0.1078 - categorical_accuracy: 0.9933 - val_loss: 0.2145 - val_categorical_accuracy: 0.9537\n",
            "Epoch 111/200\n",
            "346/346 [==============================] - 1s 1ms/step - loss: 0.1077 - categorical_accuracy: 0.9930 - val_loss: 0.2340 - val_categorical_accuracy: 0.9502\n",
            "Epoch 112/200\n",
            "346/346 [==============================] - 1s 1ms/step - loss: 0.1095 - categorical_accuracy: 0.9928 - val_loss: 0.2455 - val_categorical_accuracy: 0.9502\n",
            "Epoch 113/200\n",
            "346/346 [==============================] - 1s 2ms/step - loss: 0.1048 - categorical_accuracy: 0.9942 - val_loss: 0.2455 - val_categorical_accuracy: 0.9432\n",
            "Epoch 114/200\n",
            "346/346 [==============================] - 1s 2ms/step - loss: 0.1097 - categorical_accuracy: 0.9919 - val_loss: 0.2325 - val_categorical_accuracy: 0.9455\n",
            "Epoch 115/200\n",
            "346/346 [==============================] - 0s 1ms/step - loss: 0.1066 - categorical_accuracy: 0.9907 - val_loss: 0.2157 - val_categorical_accuracy: 0.9525\n",
            "Epoch 116/200\n",
            "346/346 [==============================] - 1s 2ms/step - loss: 0.1060 - categorical_accuracy: 0.9922 - val_loss: 0.2151 - val_categorical_accuracy: 0.9537\n",
            "Epoch 117/200\n",
            "346/346 [==============================] - 1s 2ms/step - loss: 0.1015 - categorical_accuracy: 0.9945 - val_loss: 0.2292 - val_categorical_accuracy: 0.9525\n",
            "Epoch 118/200\n",
            "346/346 [==============================] - 1s 2ms/step - loss: 0.1082 - categorical_accuracy: 0.9928 - val_loss: 0.2344 - val_categorical_accuracy: 0.9513\n",
            "Epoch 119/200\n",
            "346/346 [==============================] - 1s 2ms/step - loss: 0.0990 - categorical_accuracy: 0.9948 - val_loss: 0.2381 - val_categorical_accuracy: 0.9479\n",
            "Epoch 120/200\n",
            "346/346 [==============================] - 1s 1ms/step - loss: 0.1070 - categorical_accuracy: 0.9904 - val_loss: 0.2305 - val_categorical_accuracy: 0.9490\n"
          ],
          "name": "stdout"
        },
        {
          "output_type": "execute_result",
          "data": {
            "text/plain": [
              "<matplotlib.legend.Legend at 0x7fa81e171400>"
            ]
          },
          "metadata": {
            "tags": []
          },
          "execution_count": 26
        },
        {
          "output_type": "display_data",
          "data": {
            "image/png": "[encoded data removed]",
            "text/plain": [
              "<Figure size 432x288 with 1 Axes>"
            ]
          },
          "metadata": {
            "tags": [],
            "needs_background": "light"
          }
        }
      ]
    },
    {
      "cell_type": "code",
      "metadata": {
        "id": "aTwiSe7rpp06",
        "colab_type": "code",
        "colab": {
          "base_uri": "https://localhost:8080/",
          "height": 52
        },
        "outputId": "d485c072-5d3d-49c8-8aa3-749f2e165bed"
      },
      "source": [
        "model.evaluate(x_test, y_test, batch_size=20)\n"
      ],
      "execution_count": null,
      "outputs": [
        {
          "output_type": "stream",
          "text": [
            "72/72 [==============================] - 0s 913us/step - loss: 0.2030 - categorical_accuracy: 0.9646\n"
          ],
          "name": "stdout"
        },
        {
          "output_type": "execute_result",
          "data": {
            "text/plain": [
              "[0.20295587182044983, 0.9645587205886841]"
            ]
          },
          "metadata": {
            "tags": []
          },
          "execution_count": 36
        }
      ]
    },
    {
      "cell_type": "code",
      "metadata": {
        "id": "55mG7OkjuvOr",
        "colab_type": "code",
        "colab": {}
      },
      "source": [
        "y_pred=model.predict(x_test)"
      ],
      "execution_count": null,
      "outputs": []
    },
    {
      "cell_type": "code",
      "metadata": {
        "id": "cJ7RcIusuxfh",
        "colab_type": "code",
        "colab": {
          "base_uri": "https://localhost:8080/",
          "height": 34
        },
        "outputId": "bbf7c5e8-b99b-4479-8d1b-75bc65206b08"
      },
      "source": [
        "y_test.shape"
      ],
      "execution_count": null,
      "outputs": [
        {
          "output_type": "execute_result",
          "data": {
            "text/plain": [
              "(1439, 4)"
            ]
          },
          "metadata": {
            "tags": []
          },
          "execution_count": 30
        }
      ]
    },
    {
      "cell_type": "code",
      "metadata": {
        "id": "ZTx7GID2uyD4",
        "colab_type": "code",
        "colab": {}
      },
      "source": [
        "model.save('./model_DL.h5')"
      ],
      "execution_count": null,
      "outputs": []
    },
    {
      "cell_type": "code",
      "metadata": {
        "id": "x_CXKY-ALbD2",
        "colab_type": "code",
        "colab": {
          "base_uri": "https://localhost:8080/",
          "height": 301
        },
        "outputId": "302c6740-a5cd-4bde-8dd2-fe280b66bf17"
      },
      "source": [
        "model.summary()"
      ],
      "execution_count": null,
      "outputs": [
        {
          "output_type": "stream",
          "text": [
            "Model: \"sequential_13\"\n",
            "_________________________________________________________________\n",
            "Layer (type)                 Output Shape              Param #   \n",
            "=================================================================\n",
            "dense_24 (Dense)             (None, 16)                1264      \n",
            "_________________________________________________________________\n",
            "dense_25 (Dense)             (None, 32)                544       \n",
            "_________________________________________________________________\n",
            "dense_26 (Dense)             (None, 16)                528       \n",
            "_________________________________________________________________\n",
            "dense_27 (Dense)             (None, 4)                 68        \n",
            "=================================================================\n",
            "Total params: 2,404\n",
            "Trainable params: 2,404\n",
            "Non-trainable params: 0\n",
            "_________________________________________________________________\n"
          ],
          "name": "stdout"
        }
      ]
    },
    {
      "cell_type": "code",
      "metadata": {
        "id": "TPR0eL3wFBiO",
        "colab_type": "code",
        "colab": {}
      },
      "source": [
        "from sklearn.metrics import classification_report, confusion_matrix"
      ],
      "execution_count": null,
      "outputs": []
    },
    {
      "cell_type": "code",
      "metadata": {
        "id": "MxfIB3XWRBhe",
        "colab_type": "code",
        "colab": {
          "base_uri": "https://localhost:8080/",
          "height": 141
        },
        "outputId": "804f7cc3-5e89-4abb-83d4-3c5895436584"
      },
      "source": [
        "y_test"
      ],
      "execution_count": null,
      "outputs": [
        {
          "output_type": "execute_result",
          "data": {
            "text/plain": [
              "array([[0., 0., 1., 0.],\n",
              "       [0., 0., 1., 0.],\n",
              "       [0., 0., 0., 1.],\n",
              "       ...,\n",
              "       [1., 0., 0., 0.],\n",
              "       [1., 0., 0., 0.],\n",
              "       [0., 0., 0., 1.]], dtype=float32)"
            ]
          },
          "metadata": {
            "tags": []
          },
          "execution_count": 56
        }
      ]
    },
    {
      "cell_type": "code",
      "metadata": {
        "id": "85u6kMHwGNqr",
        "colab_type": "code",
        "colab": {}
      },
      "source": [
        "a=[]\n",
        "for i in range(len(y_pred)):\n",
        "  b=np.argmax(y_pred[i])\n",
        "  a.append(b)"
      ],
      "execution_count": null,
      "outputs": []
    },
    {
      "cell_type": "code",
      "metadata": {
        "id": "dSZQn-P7P3au",
        "colab_type": "code",
        "colab": {}
      },
      "source": [
        "c=[]\n",
        "for i in range(len(y_test)):\n",
        "  d=np.argmax(y_pred[i])\n",
        "  c.append(d)"
      ],
      "execution_count": null,
      "outputs": []
    },
    {
      "cell_type": "code",
      "metadata": {
        "id": "qcdy9i21QNhW",
        "colab_type": "code",
        "colab": {}
      },
      "source": [
        ""
      ],
      "execution_count": null,
      "outputs": []
    },
    {
      "cell_type": "code",
      "metadata": {
        "id": "2vnsHwIhFE-U",
        "colab_type": "code",
        "colab": {
          "base_uri": "https://localhost:8080/",
          "height": 70
        },
        "outputId": "e5b70827-2a9f-4a98-db3d-79dcaa45e8f7"
      },
      "source": [
        "classification_report"
      ],
      "execution_count": null,
      "outputs": [
        {
          "output_type": "execute_result",
          "data": {
            "application/vnd.google.colaboratory.intrinsic+json": {
              "type": "string"
            },
            "text/plain": [
              "'              precision    recall  f1-score   support\\n\\n           0       1.00      1.00      1.00       343\\n           1       1.00      1.00      1.00       466\\n           2       1.00      1.00      1.00       315\\n           3       1.00      1.00      1.00       315\\n\\n    accuracy                           1.00      1439\\n   macro avg       1.00      1.00      1.00      1439\\nweighted avg       1.00      1.00      1.00      1439\\n'"
            ]
          },
          "metadata": {
            "tags": []
          },
          "execution_count": 55
        }
      ]
    },
    {
      "cell_type": "code",
      "metadata": {
        "id": "UyY3gQaLF_o1",
        "colab_type": "code",
        "colab": {}
      },
      "source": [
        ""
      ],
      "execution_count": null,
      "outputs": []
    }
  ]
}