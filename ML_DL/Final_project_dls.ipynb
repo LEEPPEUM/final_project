{
  "nbformat": 4,
  "nbformat_minor": 0,
  "metadata": {
    "colab": {
      "name": "Final_project_dls",
      "provenance": [],
      "collapsed_sections": []
    },
    "kernelspec": {
      "name": "python3",
      "display_name": "Python 3"
    }
  },
  "cells": [
    {
      "cell_type": "code",
      "metadata": {
        "id": "zqI3uaGgjDgO",
        "colab_type": "code",
        "colab": {}
      },
      "source": [
        "from tensorflow.keras.callbacks import EarlyStopping\n",
        "import tensorflow as tf\n",
        "from tensorflow.keras import layers\n",
        "import numpy as np\n",
        "import pandas as pd\n",
        "from tensorflow.keras import optimizers\n",
        "import matplotlib.pyplot as plt\n",
        "from tensorflow.keras.layers.experimental.preprocessing import Normalization\n",
        "from sklearn.model_selection import train_test_split  "
      ],
      "execution_count": 1,
      "outputs": []
    },
    {
      "cell_type": "code",
      "metadata": {
        "id": "rE2W8fZBlVqR",
        "colab_type": "code",
        "colab": {}
      },
      "source": [
        "DFver1=pd.read_excel(\"pp_df_y.xlsx\")"
      ],
      "execution_count": 2,
      "outputs": []
    },
    {
      "cell_type": "code",
      "metadata": {
        "id": "1M0mtiwLlvL5",
        "colab_type": "code",
        "colab": {}
      },
      "source": [
        "DFver1=DFver1.drop(['Unnamed: 0'],1)"
      ],
      "execution_count": 3,
      "outputs": []
    },
    {
      "cell_type": "code",
      "metadata": {
        "id": "rXMV_EkrmJTh",
        "colab_type": "code",
        "colab": {}
      },
      "source": [
        "y_set=DFver1['y']"
      ],
      "execution_count": 4,
      "outputs": []
    },
    {
      "cell_type": "code",
      "metadata": {
        "id": "vn8MkphFmQSo",
        "colab_type": "code",
        "colab": {}
      },
      "source": [
        "DFver1=DFver1.drop(['y'],1)"
      ],
      "execution_count": 5,
      "outputs": []
    },
    {
      "cell_type": "code",
      "metadata": {
        "id": "UyohnmlNqVKI",
        "colab_type": "code",
        "colab": {}
      },
      "source": [
        "y_set = tf.keras.utils.to_categorical(y_set)"
      ],
      "execution_count": 6,
      "outputs": []
    },
    {
      "cell_type": "code",
      "metadata": {
        "id": "DpeguTHIoirb",
        "colab_type": "code",
        "colab": {}
      },
      "source": [
        "x_train, x_test, y_train, y_test=train_test_split(DFver1, y_set)"
      ],
      "execution_count": 7,
      "outputs": []
    },
    {
      "cell_type": "code",
      "metadata": {
        "id": "LLVlSk41rk5J",
        "colab_type": "code",
        "colab": {}
      },
      "source": [
        "model=tf.keras.models.Sequential()\n",
        "model = tf.keras.models.Sequential([layers.Input(shape=x_train.shape[1]), layers.Dense(16, activation='relu'\n",
        "                                    ), layers.Dense(32, activation='relu'\n",
        "                                   ),  layers.Dense(16, activation='relu'\n",
        "                                    ),\n",
        "                                    layers.Dense(10, activation='softmax') ])\n",
        "model.compile(tf.keras.optimizers.Adam(learning_rate=0.001), loss='categorical_crossentropy',  metrics=['categorical_accuracy'])\n",
        "early_stopping=tf.keras.callbacks.EarlyStopping(monitor='loss', patience=10, restore_best_weights=True)\n"
      ],
      "execution_count": 15,
      "outputs": []
    },
    {
      "cell_type": "code",
      "metadata": {
        "id": "VaYCXw87ro3o",
        "colab_type": "code",
        "colab": {
          "base_uri": "https://localhost:8080/",
          "height": 3304
        },
        "outputId": "11e07791-635d-4742-a8dc-7233995b71ce"
      },
      "source": [
        "hists=model.fit(x_train, y_train, epochs=200, batch_size=20, validation_split=0.2, verbose=1,callbacks=[early_stopping])\n",
        "plt.plot(hists.history['val_categorical_accuracy'])\n",
        "plt.plot(hists.history['categorical_accuracy'])\n",
        "plt.plot(hists.history['loss'])\n",
        "plt.plot(hists.history['val_loss'])"
      ],
      "execution_count": 16,
      "outputs": [
        {
          "output_type": "stream",
          "text": [
            "Epoch 1/200\n",
            "173/173 [==============================] - 0s 3ms/step - loss: 2.0465 - categorical_accuracy: 0.2463 - val_loss: 1.6826 - val_categorical_accuracy: 0.3395\n",
            "Epoch 2/200\n",
            "173/173 [==============================] - 0s 1ms/step - loss: 1.3016 - categorical_accuracy: 0.4999 - val_loss: 1.0615 - val_categorical_accuracy: 0.5782\n",
            "Epoch 3/200\n",
            "173/173 [==============================] - 0s 2ms/step - loss: 0.9390 - categorical_accuracy: 0.6103 - val_loss: 0.8699 - val_categorical_accuracy: 0.6199\n",
            "Epoch 4/200\n",
            "173/173 [==============================] - 0s 2ms/step - loss: 0.7995 - categorical_accuracy: 0.6560 - val_loss: 0.7792 - val_categorical_accuracy: 0.6559\n",
            "Epoch 5/200\n",
            "173/173 [==============================] - 0s 1ms/step - loss: 0.7279 - categorical_accuracy: 0.6888 - val_loss: 0.7369 - val_categorical_accuracy: 0.6802\n",
            "Epoch 6/200\n",
            "173/173 [==============================] - 0s 1ms/step - loss: 0.6699 - categorical_accuracy: 0.7195 - val_loss: 0.6883 - val_categorical_accuracy: 0.6952\n",
            "Epoch 7/200\n",
            "173/173 [==============================] - 0s 1ms/step - loss: 0.6341 - categorical_accuracy: 0.7320 - val_loss: 0.6591 - val_categorical_accuracy: 0.7462\n",
            "Epoch 8/200\n",
            "173/173 [==============================] - 0s 1ms/step - loss: 0.6051 - categorical_accuracy: 0.7543 - val_loss: 0.6169 - val_categorical_accuracy: 0.7625\n",
            "Epoch 9/200\n",
            "173/173 [==============================] - 0s 1ms/step - loss: 0.5858 - categorical_accuracy: 0.7644 - val_loss: 0.6104 - val_categorical_accuracy: 0.7555\n",
            "Epoch 10/200\n",
            "173/173 [==============================] - 0s 2ms/step - loss: 0.5556 - categorical_accuracy: 0.7798 - val_loss: 0.5837 - val_categorical_accuracy: 0.7752\n",
            "Epoch 11/200\n",
            "173/173 [==============================] - 0s 2ms/step - loss: 0.5422 - categorical_accuracy: 0.7841 - val_loss: 0.5859 - val_categorical_accuracy: 0.7764\n",
            "Epoch 12/200\n",
            "173/173 [==============================] - 0s 1ms/step - loss: 0.5242 - categorical_accuracy: 0.7934 - val_loss: 0.5578 - val_categorical_accuracy: 0.7903\n",
            "Epoch 13/200\n",
            "173/173 [==============================] - 0s 2ms/step - loss: 0.5090 - categorical_accuracy: 0.8044 - val_loss: 0.5522 - val_categorical_accuracy: 0.7845\n",
            "Epoch 14/200\n",
            "173/173 [==============================] - 0s 2ms/step - loss: 0.4951 - categorical_accuracy: 0.8088 - val_loss: 0.5359 - val_categorical_accuracy: 0.7972\n",
            "Epoch 15/200\n",
            "173/173 [==============================] - 0s 1ms/step - loss: 0.4822 - categorical_accuracy: 0.8035 - val_loss: 0.5282 - val_categorical_accuracy: 0.8111\n",
            "Epoch 16/200\n",
            "173/173 [==============================] - 0s 1ms/step - loss: 0.4670 - categorical_accuracy: 0.8209 - val_loss: 0.5116 - val_categorical_accuracy: 0.8123\n",
            "Epoch 17/200\n",
            "173/173 [==============================] - 0s 2ms/step - loss: 0.4513 - categorical_accuracy: 0.8279 - val_loss: 0.4975 - val_categorical_accuracy: 0.8216\n",
            "Epoch 18/200\n",
            "173/173 [==============================] - 0s 2ms/step - loss: 0.4338 - categorical_accuracy: 0.8348 - val_loss: 0.4983 - val_categorical_accuracy: 0.8216\n",
            "Epoch 19/200\n",
            "173/173 [==============================] - 0s 2ms/step - loss: 0.4241 - categorical_accuracy: 0.8398 - val_loss: 0.4814 - val_categorical_accuracy: 0.8181\n",
            "Epoch 20/200\n",
            "173/173 [==============================] - 0s 1ms/step - loss: 0.4096 - categorical_accuracy: 0.8484 - val_loss: 0.4656 - val_categorical_accuracy: 0.8262\n",
            "Epoch 21/200\n",
            "173/173 [==============================] - 0s 1ms/step - loss: 0.3929 - categorical_accuracy: 0.8528 - val_loss: 0.4613 - val_categorical_accuracy: 0.8262\n",
            "Epoch 22/200\n",
            "173/173 [==============================] - 0s 1ms/step - loss: 0.3771 - categorical_accuracy: 0.8629 - val_loss: 0.4306 - val_categorical_accuracy: 0.8459\n",
            "Epoch 23/200\n",
            "173/173 [==============================] - 0s 1ms/step - loss: 0.3646 - categorical_accuracy: 0.8624 - val_loss: 0.4272 - val_categorical_accuracy: 0.8273\n",
            "Epoch 24/200\n",
            "173/173 [==============================] - 0s 2ms/step - loss: 0.3475 - categorical_accuracy: 0.8760 - val_loss: 0.4188 - val_categorical_accuracy: 0.8331\n",
            "Epoch 25/200\n",
            "173/173 [==============================] - 0s 1ms/step - loss: 0.3335 - categorical_accuracy: 0.8829 - val_loss: 0.3940 - val_categorical_accuracy: 0.8563\n",
            "Epoch 26/200\n",
            "173/173 [==============================] - 0s 2ms/step - loss: 0.3214 - categorical_accuracy: 0.8893 - val_loss: 0.3931 - val_categorical_accuracy: 0.8447\n",
            "Epoch 27/200\n",
            "173/173 [==============================] - 0s 1ms/step - loss: 0.3102 - categorical_accuracy: 0.8937 - val_loss: 0.3840 - val_categorical_accuracy: 0.8598\n",
            "Epoch 28/200\n",
            "173/173 [==============================] - 0s 1ms/step - loss: 0.2939 - categorical_accuracy: 0.9064 - val_loss: 0.3457 - val_categorical_accuracy: 0.8806\n",
            "Epoch 29/200\n",
            "173/173 [==============================] - 0s 1ms/step - loss: 0.2839 - categorical_accuracy: 0.9032 - val_loss: 0.3533 - val_categorical_accuracy: 0.8586\n",
            "Epoch 30/200\n",
            "173/173 [==============================] - 0s 1ms/step - loss: 0.2698 - categorical_accuracy: 0.9076 - val_loss: 0.3396 - val_categorical_accuracy: 0.8760\n",
            "Epoch 31/200\n",
            "173/173 [==============================] - 0s 1ms/step - loss: 0.2567 - categorical_accuracy: 0.9192 - val_loss: 0.3175 - val_categorical_accuracy: 0.8934\n",
            "Epoch 32/200\n",
            "173/173 [==============================] - 0s 2ms/step - loss: 0.2468 - categorical_accuracy: 0.9223 - val_loss: 0.3183 - val_categorical_accuracy: 0.8899\n",
            "Epoch 33/200\n",
            "173/173 [==============================] - 0s 1ms/step - loss: 0.2372 - categorical_accuracy: 0.9206 - val_loss: 0.3103 - val_categorical_accuracy: 0.8899\n",
            "Epoch 34/200\n",
            "173/173 [==============================] - 0s 1ms/step - loss: 0.2247 - categorical_accuracy: 0.9302 - val_loss: 0.2906 - val_categorical_accuracy: 0.8957\n",
            "Epoch 35/200\n",
            "173/173 [==============================] - 0s 1ms/step - loss: 0.2140 - categorical_accuracy: 0.9319 - val_loss: 0.2800 - val_categorical_accuracy: 0.9015\n",
            "Epoch 36/200\n",
            "173/173 [==============================] - 0s 1ms/step - loss: 0.2072 - categorical_accuracy: 0.9377 - val_loss: 0.2724 - val_categorical_accuracy: 0.9015\n",
            "Epoch 37/200\n",
            "173/173 [==============================] - 0s 1ms/step - loss: 0.1981 - categorical_accuracy: 0.9394 - val_loss: 0.2848 - val_categorical_accuracy: 0.8980\n",
            "Epoch 38/200\n",
            "173/173 [==============================] - 0s 1ms/step - loss: 0.1982 - categorical_accuracy: 0.9371 - val_loss: 0.2729 - val_categorical_accuracy: 0.8899\n",
            "Epoch 39/200\n",
            "173/173 [==============================] - 0s 1ms/step - loss: 0.1885 - categorical_accuracy: 0.9429 - val_loss: 0.2442 - val_categorical_accuracy: 0.9166\n",
            "Epoch 40/200\n",
            "173/173 [==============================] - 0s 2ms/step - loss: 0.1690 - categorical_accuracy: 0.9513 - val_loss: 0.2374 - val_categorical_accuracy: 0.9212\n",
            "Epoch 41/200\n",
            "173/173 [==============================] - 0s 1ms/step - loss: 0.1686 - categorical_accuracy: 0.9478 - val_loss: 0.2496 - val_categorical_accuracy: 0.9096\n",
            "Epoch 42/200\n",
            "173/173 [==============================] - 0s 1ms/step - loss: 0.1605 - categorical_accuracy: 0.9539 - val_loss: 0.2246 - val_categorical_accuracy: 0.9212\n",
            "Epoch 43/200\n",
            "173/173 [==============================] - 0s 1ms/step - loss: 0.1485 - categorical_accuracy: 0.9606 - val_loss: 0.2128 - val_categorical_accuracy: 0.9224\n",
            "Epoch 44/200\n",
            "173/173 [==============================] - 0s 2ms/step - loss: 0.1439 - categorical_accuracy: 0.9606 - val_loss: 0.2058 - val_categorical_accuracy: 0.9328\n",
            "Epoch 45/200\n",
            "173/173 [==============================] - 0s 1ms/step - loss: 0.1385 - categorical_accuracy: 0.9618 - val_loss: 0.1965 - val_categorical_accuracy: 0.9397\n",
            "Epoch 46/200\n",
            "173/173 [==============================] - 0s 1ms/step - loss: 0.1309 - categorical_accuracy: 0.9635 - val_loss: 0.2030 - val_categorical_accuracy: 0.9363\n",
            "Epoch 47/200\n",
            "173/173 [==============================] - 0s 1ms/step - loss: 0.1263 - categorical_accuracy: 0.9652 - val_loss: 0.1979 - val_categorical_accuracy: 0.9363\n",
            "Epoch 48/200\n",
            "173/173 [==============================] - 0s 1ms/step - loss: 0.1212 - categorical_accuracy: 0.9655 - val_loss: 0.2074 - val_categorical_accuracy: 0.9328\n",
            "Epoch 49/200\n",
            "173/173 [==============================] - 0s 1ms/step - loss: 0.1114 - categorical_accuracy: 0.9728 - val_loss: 0.1893 - val_categorical_accuracy: 0.9444\n",
            "Epoch 50/200\n",
            "173/173 [==============================] - 0s 1ms/step - loss: 0.1091 - categorical_accuracy: 0.9713 - val_loss: 0.1828 - val_categorical_accuracy: 0.9467\n",
            "Epoch 51/200\n",
            "173/173 [==============================] - 0s 1ms/step - loss: 0.1036 - categorical_accuracy: 0.9736 - val_loss: 0.1828 - val_categorical_accuracy: 0.9479\n",
            "Epoch 52/200\n",
            "173/173 [==============================] - 0s 1ms/step - loss: 0.1025 - categorical_accuracy: 0.9733 - val_loss: 0.1777 - val_categorical_accuracy: 0.9467\n",
            "Epoch 53/200\n",
            "173/173 [==============================] - 0s 1ms/step - loss: 0.0961 - categorical_accuracy: 0.9762 - val_loss: 0.1757 - val_categorical_accuracy: 0.9409\n",
            "Epoch 54/200\n",
            "173/173 [==============================] - 0s 2ms/step - loss: 0.0907 - categorical_accuracy: 0.9759 - val_loss: 0.1802 - val_categorical_accuracy: 0.9397\n",
            "Epoch 55/200\n",
            "173/173 [==============================] - 0s 1ms/step - loss: 0.0890 - categorical_accuracy: 0.9759 - val_loss: 0.1723 - val_categorical_accuracy: 0.9479\n",
            "Epoch 56/200\n",
            "173/173 [==============================] - 0s 1ms/step - loss: 0.0870 - categorical_accuracy: 0.9759 - val_loss: 0.1964 - val_categorical_accuracy: 0.9374\n",
            "Epoch 57/200\n",
            "173/173 [==============================] - 0s 1ms/step - loss: 0.0928 - categorical_accuracy: 0.9751 - val_loss: 0.1722 - val_categorical_accuracy: 0.9444\n",
            "Epoch 58/200\n",
            "173/173 [==============================] - 0s 1ms/step - loss: 0.0765 - categorical_accuracy: 0.9809 - val_loss: 0.1773 - val_categorical_accuracy: 0.9490\n",
            "Epoch 59/200\n",
            "173/173 [==============================] - 0s 1ms/step - loss: 0.0739 - categorical_accuracy: 0.9803 - val_loss: 0.1616 - val_categorical_accuracy: 0.9502\n",
            "Epoch 60/200\n",
            "173/173 [==============================] - 0s 1ms/step - loss: 0.0708 - categorical_accuracy: 0.9829 - val_loss: 0.1793 - val_categorical_accuracy: 0.9444\n",
            "Epoch 61/200\n",
            "173/173 [==============================] - 0s 2ms/step - loss: 0.0700 - categorical_accuracy: 0.9806 - val_loss: 0.1666 - val_categorical_accuracy: 0.9444\n",
            "Epoch 62/200\n",
            "173/173 [==============================] - 0s 2ms/step - loss: 0.0683 - categorical_accuracy: 0.9817 - val_loss: 0.1612 - val_categorical_accuracy: 0.9548\n",
            "Epoch 63/200\n",
            "173/173 [==============================] - 0s 2ms/step - loss: 0.0604 - categorical_accuracy: 0.9861 - val_loss: 0.1796 - val_categorical_accuracy: 0.9421\n",
            "Epoch 64/200\n",
            "173/173 [==============================] - 0s 1ms/step - loss: 0.0614 - categorical_accuracy: 0.9858 - val_loss: 0.1633 - val_categorical_accuracy: 0.9502\n",
            "Epoch 65/200\n",
            "173/173 [==============================] - 0s 1ms/step - loss: 0.0832 - categorical_accuracy: 0.9748 - val_loss: 0.2095 - val_categorical_accuracy: 0.9363\n",
            "Epoch 66/200\n",
            "173/173 [==============================] - 0s 2ms/step - loss: 0.0556 - categorical_accuracy: 0.9849 - val_loss: 0.1493 - val_categorical_accuracy: 0.9652\n",
            "Epoch 67/200\n",
            "173/173 [==============================] - 0s 1ms/step - loss: 0.0541 - categorical_accuracy: 0.9841 - val_loss: 0.1604 - val_categorical_accuracy: 0.9467\n",
            "Epoch 68/200\n",
            "173/173 [==============================] - 0s 1ms/step - loss: 0.0497 - categorical_accuracy: 0.9875 - val_loss: 0.1628 - val_categorical_accuracy: 0.9548\n",
            "Epoch 69/200\n",
            "173/173 [==============================] - 0s 1ms/step - loss: 0.0484 - categorical_accuracy: 0.9901 - val_loss: 0.1554 - val_categorical_accuracy: 0.9606\n",
            "Epoch 70/200\n",
            "173/173 [==============================] - 0s 1ms/step - loss: 0.0520 - categorical_accuracy: 0.9852 - val_loss: 0.1562 - val_categorical_accuracy: 0.9583\n",
            "Epoch 71/200\n",
            "173/173 [==============================] - 0s 1ms/step - loss: 0.0521 - categorical_accuracy: 0.9852 - val_loss: 0.1622 - val_categorical_accuracy: 0.9571\n",
            "Epoch 72/200\n",
            "173/173 [==============================] - 0s 1ms/step - loss: 0.0445 - categorical_accuracy: 0.9881 - val_loss: 0.1466 - val_categorical_accuracy: 0.9652\n",
            "Epoch 73/200\n",
            "173/173 [==============================] - 0s 2ms/step - loss: 0.0401 - categorical_accuracy: 0.9913 - val_loss: 0.1536 - val_categorical_accuracy: 0.9606\n",
            "Epoch 74/200\n",
            "173/173 [==============================] - 0s 1ms/step - loss: 0.0438 - categorical_accuracy: 0.9881 - val_loss: 0.1604 - val_categorical_accuracy: 0.9606\n",
            "Epoch 75/200\n",
            "173/173 [==============================] - 0s 2ms/step - loss: 0.0380 - categorical_accuracy: 0.9913 - val_loss: 0.1462 - val_categorical_accuracy: 0.9652\n",
            "Epoch 76/200\n",
            "173/173 [==============================] - 0s 1ms/step - loss: 0.0401 - categorical_accuracy: 0.9904 - val_loss: 0.1549 - val_categorical_accuracy: 0.9594\n",
            "Epoch 77/200\n",
            "173/173 [==============================] - 0s 2ms/step - loss: 0.0375 - categorical_accuracy: 0.9899 - val_loss: 0.1593 - val_categorical_accuracy: 0.9641\n",
            "Epoch 78/200\n",
            "173/173 [==============================] - 0s 2ms/step - loss: 0.0341 - categorical_accuracy: 0.9925 - val_loss: 0.1552 - val_categorical_accuracy: 0.9618\n",
            "Epoch 79/200\n",
            "173/173 [==============================] - 0s 1ms/step - loss: 0.0357 - categorical_accuracy: 0.9899 - val_loss: 0.1572 - val_categorical_accuracy: 0.9664\n",
            "Epoch 80/200\n",
            "173/173 [==============================] - 0s 1ms/step - loss: 0.0412 - categorical_accuracy: 0.9899 - val_loss: 0.1965 - val_categorical_accuracy: 0.9525\n",
            "Epoch 81/200\n",
            "173/173 [==============================] - 0s 1ms/step - loss: 0.0391 - categorical_accuracy: 0.9899 - val_loss: 0.1576 - val_categorical_accuracy: 0.9594\n",
            "Epoch 82/200\n",
            "173/173 [==============================] - 0s 1ms/step - loss: 0.0316 - categorical_accuracy: 0.9936 - val_loss: 0.1748 - val_categorical_accuracy: 0.9525\n",
            "Epoch 83/200\n",
            "173/173 [==============================] - 0s 1ms/step - loss: 0.0297 - categorical_accuracy: 0.9933 - val_loss: 0.1598 - val_categorical_accuracy: 0.9641\n",
            "Epoch 84/200\n",
            "173/173 [==============================] - 0s 2ms/step - loss: 0.0323 - categorical_accuracy: 0.9925 - val_loss: 0.1593 - val_categorical_accuracy: 0.9594\n",
            "Epoch 85/200\n",
            "173/173 [==============================] - 0s 1ms/step - loss: 0.0268 - categorical_accuracy: 0.9954 - val_loss: 0.1721 - val_categorical_accuracy: 0.9594\n"
          ],
          "name": "stdout"
        },
        {
          "output_type": "execute_result",
          "data": {
            "text/plain": [
              "[<matplotlib.lines.Line2D at 0x7f4fef07d668>]"
            ]
          },
          "metadata": {
            "tags": []
          },
          "execution_count": 16
        },
        {
          "output_type": "display_data",
          "data": {
            "image/png": "[encoded data removed]",
            "text/plain": [
              "<Figure size 432x288 with 1 Axes>"
            ]
          },
          "metadata": {
            "tags": [],
            "needs_background": "light"
          }
        }
      ]
    },
    {
      "cell_type": "code",
      "metadata": {
        "id": "aTwiSe7rpp06",
        "colab_type": "code",
        "colab": {
          "base_uri": "https://localhost:8080/",
          "height": 52
        },
        "outputId": "e751225f-efc4-4834-dacf-118414158a35"
      },
      "source": [
        "model.evaluate(x_test, y_test, batch_size=20)\n"
      ],
      "execution_count": 22,
      "outputs": [
        {
          "output_type": "stream",
          "text": [
            "72/72 [==============================] - 0s 825us/step - loss: 0.2108 - categorical_accuracy: 0.9493\n"
          ],
          "name": "stdout"
        },
        {
          "output_type": "execute_result",
          "data": {
            "text/plain": [
              "[0.21080908179283142, 0.9492703080177307]"
            ]
          },
          "metadata": {
            "tags": []
          },
          "execution_count": 22
        }
      ]
    },
    {
      "cell_type": "code",
      "metadata": {
        "id": "55mG7OkjuvOr",
        "colab_type": "code",
        "colab": {}
      },
      "source": [
        "y_pred=model.predict(x_test)"
      ],
      "execution_count": 13,
      "outputs": []
    },
    {
      "cell_type": "code",
      "metadata": {
        "id": "cJ7RcIusuxfh",
        "colab_type": "code",
        "colab": {
          "base_uri": "https://localhost:8080/",
          "height": 34
        },
        "outputId": "90fcb44a-2e99-47aa-dba7-d400b466caf1"
      },
      "source": [
        "y_pred.shape"
      ],
      "execution_count": 14,
      "outputs": [
        {
          "output_type": "execute_result",
          "data": {
            "text/plain": [
              "(1439, 10)"
            ]
          },
          "metadata": {
            "tags": []
          },
          "execution_count": 14
        }
      ]
    },
    {
      "cell_type": "code",
      "metadata": {
        "id": "ZTx7GID2uyD4",
        "colab_type": "code",
        "colab": {}
      },
      "source": [
        "model.save('./project_model_r.h5')"
      ],
      "execution_count": 20,
      "outputs": []
    }
  ]
}